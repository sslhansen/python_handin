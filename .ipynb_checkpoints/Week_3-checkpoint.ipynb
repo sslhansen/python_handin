{
 "cells": [
  {
   "cell_type": "markdown",
   "metadata": {},
   "source": [
    "# Week 3 handin"
   ]
  },
  {
   "cell_type": "markdown",
   "metadata": {},
   "source": [
    "# Exercise for the 3rd course week\n",
    "\n",
    "## Ex 1 Classes\n",
    "1. Create 3 classes: Student, DataSheet and Course\n",
    "2. A student has a data_sheet and a data_sheet has multiple courses in particular order\n",
    "3. Each course has name, classroom, teacher, ETCS and optional grade if course is taken.\n",
    "4. In Student create __init__() so that a Student can be initiated with name, gender, data_sheet and image_url\n",
    "5. In DataSheet create a method to get_grades_as_list()\n",
    "6. In student create a method: get_avg_grade()\n",
    "7. Create a function that can generate n number of students with random: name, gender, courses (from a fixed list of course names), grades, img_url\n",
    "   1. Let the function write the result to a csv file with format stud_name, course_name, teacher, ects, classroom, grade, img_url\n",
    "7. Read student data into a list of Students from a csv file: \n",
    "   1. loop through the list and print each student with name, img_url and avg_grade.\n",
    "   2. sort the list by avg_grade\n",
    "   3. create a bar chart with student_name on x and avg_grade on y-axis\n",
    "8. Make a method on Student class that can show progression of the study in % (add up ECTS from all passed courses divided by total of 150 total points (equivalent to 5 semesters))\n",
    "9. Show a bar chart of distribution of study progression on x-axis and number of students in each category on y-axis. (e.g. make 10 categories from 0-100%)\n",
    "\n",
    "Extra: Make the Datasheet class iterable so that next(data_sheet) will return the next course in the list\n",
    "\n",
    "## Ex 2 Exceptions (extra)\n",
    "1. Create a function that can take a list of students and return the 3 students closest to completing their study.\n",
    "2. If list is shorter than 3 raise your own custom exception (NotEnoughStudentsException)\n",
    "3. Create another function that can create a csv file with 3 students closest to completion\n",
    "   1. If an exception is raised write an appropriate message to the file\n",
    "\n",
    "## Ex 3 Plotting (extra)\n",
    "1. Create a function that can take a list of students and show a pie chart of how students are distributed in ECTS percentage categories (10%, 20%, ...)\n",
    "2. create a function that can take a list of students and show how many students have taken each course (bar chart)\n",
    "   1. create a method on student that can return a list of courses\n",
    "3. make the figure show males and females in different colors for each course (display 2 datasets in same figure)\n"
   ]
  },
  {
   "cell_type": "markdown",
   "metadata": {},
   "source": [
    "## 02 Status\n",
    "I had an issue where my csv reader would not read the first line of my file, and i tried to fix it but i ended up making a newline on line 1 because of the problems it was causing me. I finished tasks up until the task 8.A.\n",
    "I have a problem with my average grades function, it says that my student does not have that \"connected\" to them, even though it does. I ended up giving up finding a solution."
   ]
  },
  {
   "cell_type": "markdown",
   "metadata": {},
   "source": [
    "## 03 Solutions "
   ]
  },
  {
   "cell_type": "markdown",
   "metadata": {},
   "source": [
    "### Part 1"
   ]
  },
  {
   "cell_type": "code",
   "execution_count": 173,
   "metadata": {},
   "outputs": [
    {
     "name": "stdout",
     "output_type": "stream",
     "text": [
      "Student('Joan', 'boy', \"DataSheet([Course('Matematik', 'a1', 'svend bent', '10', 4), Course('Svensk', 'a3', 'henrik hapengut', '10', 10)])\", 'pancake.img')\n",
      "Student('Bent', 'odder', \"DataSheet([Course('Dansk', 'a2', 'jørgen jetjæger', '20', 10), Course('Svensk', 'a3', 'henrik hapengut', '10', 10)])\", 'pancake.img')\n",
      "Student('Bent', 'girl', \"DataSheet([Course('Matematik', 'a1', 'svend bent', '10', 2), Course('Dansk', 'a2', 'jørgen jetjæger', '20', 10)])\", 'pancake.img')\n",
      "Student('Jørgen', 'boy', \"DataSheet([Course('Matematik', 'a1', 'svend bent', '10', 2), Course('Svensk', 'a3', 'henrik hapengut', '10', 10)])\", 'pancake.img')\n",
      "Student('Svend', 'odder', \"DataSheet([Course('Matematik', 'a1', 'svend bent', '10', 10), Course('Dansk', 'a2', 'jørgen jetjæger', '20', 12)])\", 'pancake.img')\n",
      "Student('Joan', 'odder', \"DataSheet([Course('Dansk', 'a2', 'jørgen jetjæger', '20', 12), Course('Tysk', 'a4', 'svend sved', '10', 0)])\", 'pancake.img')\n"
     ]
    },
    {
     "ename": "AttributeError",
     "evalue": "'str' object has no attribute 'get_grades_as_list'",
     "output_type": "error",
     "traceback": [
      "\u001b[0;31m---------------------------------------------------------------------------\u001b[0m",
      "\u001b[0;31mAttributeError\u001b[0m                            Traceback (most recent call last)",
      "\u001b[0;32m<ipython-input-173-4380734572b8>\u001b[0m in \u001b[0;36m<module>\u001b[0;34m\u001b[0m\n\u001b[1;32m    105\u001b[0m \u001b[0;34m[\u001b[0m\u001b[0mprint\u001b[0m\u001b[0;34m(\u001b[0m\u001b[0mstudent\u001b[0m\u001b[0;34m)\u001b[0m \u001b[0;32mfor\u001b[0m \u001b[0mstudent\u001b[0m \u001b[0;32min\u001b[0m \u001b[0mstudents_from_csv\u001b[0m\u001b[0;34m]\u001b[0m\u001b[0;34m\u001b[0m\u001b[0;34m\u001b[0m\u001b[0m\n\u001b[1;32m    106\u001b[0m \u001b[0;34m\u001b[0m\u001b[0m\n\u001b[0;32m--> 107\u001b[0;31m \u001b[0msortlist\u001b[0m \u001b[0;34m=\u001b[0m \u001b[0msorted\u001b[0m\u001b[0;34m(\u001b[0m\u001b[0mstudents_from_csv\u001b[0m\u001b[0;34m,\u001b[0m \u001b[0mkey\u001b[0m\u001b[0;34m=\u001b[0m\u001b[0;32mlambda\u001b[0m \u001b[0mstudent\u001b[0m\u001b[0;34m:\u001b[0m \u001b[0mstudent\u001b[0m\u001b[0;34m.\u001b[0m\u001b[0mget_avg_grade\u001b[0m\u001b[0;34m(\u001b[0m\u001b[0;34m)\u001b[0m\u001b[0;34m)\u001b[0m\u001b[0;34m\u001b[0m\u001b[0;34m\u001b[0m\u001b[0m\n\u001b[0m\u001b[1;32m    108\u001b[0m \u001b[0mstudents_from_csv\u001b[0m\u001b[0;34m.\u001b[0m\u001b[0msort\u001b[0m\u001b[0;34m(\u001b[0m\u001b[0mkey\u001b[0m\u001b[0;34m=\u001b[0m\u001b[0msort_crit\u001b[0m\u001b[0;34m)\u001b[0m\u001b[0;34m\u001b[0m\u001b[0;34m\u001b[0m\u001b[0m\n\u001b[1;32m    109\u001b[0m \u001b[0mprint\u001b[0m\u001b[0;34m(\u001b[0m\u001b[0mmy_list\u001b[0m\u001b[0;34m)\u001b[0m\u001b[0;34m\u001b[0m\u001b[0;34m\u001b[0m\u001b[0m\n",
      "\u001b[0;32m<ipython-input-173-4380734572b8>\u001b[0m in \u001b[0;36m<lambda>\u001b[0;34m(student)\u001b[0m\n\u001b[1;32m    105\u001b[0m \u001b[0;34m[\u001b[0m\u001b[0mprint\u001b[0m\u001b[0;34m(\u001b[0m\u001b[0mstudent\u001b[0m\u001b[0;34m)\u001b[0m \u001b[0;32mfor\u001b[0m \u001b[0mstudent\u001b[0m \u001b[0;32min\u001b[0m \u001b[0mstudents_from_csv\u001b[0m\u001b[0;34m]\u001b[0m\u001b[0;34m\u001b[0m\u001b[0;34m\u001b[0m\u001b[0m\n\u001b[1;32m    106\u001b[0m \u001b[0;34m\u001b[0m\u001b[0m\n\u001b[0;32m--> 107\u001b[0;31m \u001b[0msortlist\u001b[0m \u001b[0;34m=\u001b[0m \u001b[0msorted\u001b[0m\u001b[0;34m(\u001b[0m\u001b[0mstudents_from_csv\u001b[0m\u001b[0;34m,\u001b[0m \u001b[0mkey\u001b[0m\u001b[0;34m=\u001b[0m\u001b[0;32mlambda\u001b[0m \u001b[0mstudent\u001b[0m\u001b[0;34m:\u001b[0m \u001b[0mstudent\u001b[0m\u001b[0;34m.\u001b[0m\u001b[0mget_avg_grade\u001b[0m\u001b[0;34m(\u001b[0m\u001b[0;34m)\u001b[0m\u001b[0;34m)\u001b[0m\u001b[0;34m\u001b[0m\u001b[0;34m\u001b[0m\u001b[0m\n\u001b[0m\u001b[1;32m    108\u001b[0m \u001b[0mstudents_from_csv\u001b[0m\u001b[0;34m.\u001b[0m\u001b[0msort\u001b[0m\u001b[0;34m(\u001b[0m\u001b[0mkey\u001b[0m\u001b[0;34m=\u001b[0m\u001b[0msort_crit\u001b[0m\u001b[0;34m)\u001b[0m\u001b[0;34m\u001b[0m\u001b[0;34m\u001b[0m\u001b[0m\n\u001b[1;32m    109\u001b[0m \u001b[0mprint\u001b[0m\u001b[0;34m(\u001b[0m\u001b[0mmy_list\u001b[0m\u001b[0;34m)\u001b[0m\u001b[0;34m\u001b[0m\u001b[0;34m\u001b[0m\u001b[0m\n",
      "\u001b[0;32m<ipython-input-173-4380734572b8>\u001b[0m in \u001b[0;36mget_avg_grade\u001b[0;34m(self)\u001b[0m\n\u001b[1;32m     12\u001b[0m \u001b[0;34m\u001b[0m\u001b[0m\n\u001b[1;32m     13\u001b[0m     \u001b[0;32mdef\u001b[0m \u001b[0mget_avg_grade\u001b[0m\u001b[0;34m(\u001b[0m\u001b[0mself\u001b[0m\u001b[0;34m)\u001b[0m\u001b[0;34m:\u001b[0m\u001b[0;34m\u001b[0m\u001b[0;34m\u001b[0m\u001b[0m\n\u001b[0;32m---> 14\u001b[0;31m         \u001b[0mgrades\u001b[0m \u001b[0;34m=\u001b[0m \u001b[0mself\u001b[0m\u001b[0;34m.\u001b[0m\u001b[0mdata_sheet\u001b[0m\u001b[0;34m.\u001b[0m\u001b[0mget_grades_as_list\u001b[0m\u001b[0;34m(\u001b[0m\u001b[0;34m)\u001b[0m\u001b[0;34m\u001b[0m\u001b[0;34m\u001b[0m\u001b[0m\n\u001b[0m\u001b[1;32m     15\u001b[0m         \u001b[0;32mreturn\u001b[0m \u001b[0;34m(\u001b[0m\u001b[0msum\u001b[0m\u001b[0;34m(\u001b[0m\u001b[0mgrades\u001b[0m\u001b[0;34m)\u001b[0m\u001b[0;34m/\u001b[0m\u001b[0mlen\u001b[0m\u001b[0;34m(\u001b[0m\u001b[0mgrades\u001b[0m\u001b[0;34m)\u001b[0m\u001b[0;34m)\u001b[0m\u001b[0;34m\u001b[0m\u001b[0;34m\u001b[0m\u001b[0m\n\u001b[1;32m     16\u001b[0m \u001b[0;34m\u001b[0m\u001b[0m\n",
      "\u001b[0;31mAttributeError\u001b[0m: 'str' object has no attribute 'get_grades_as_list'"
     ]
    }
   ],
   "source": [
    "#1.1 Create 3 classes: Student, DataSheet and Course\n",
    "import platform\n",
    "import csv\n",
    "import random as r\n",
    "class Student():\n",
    "    \n",
    "    def __init__(self, name, gender, data_sheet, image_url):\n",
    "        self.name = name\n",
    "        self.gender = gender\n",
    "        self.data_sheet = data_sheet\n",
    "        self.image_url = image_url\n",
    "\n",
    "    def get_avg_grade(self):\n",
    "        grades = self.data_sheet.get_grades_as_list()\n",
    "        return (sum(grades)/len(grades))\n",
    "\n",
    "    def __repr__(self):\n",
    "        return 'Student(%r, %r, %r, %r)' % (self.name, self.gender, self.data_sheet, self.image_url)\n",
    "\n",
    "class DataSheet():\n",
    "    def __init__(self, courses=[]):\n",
    "        self.courses = courses\n",
    "\n",
    "    def get_grades_as_list(self):\n",
    "        lst = []\n",
    "        for l in self.courses:\n",
    "            lst.append(l.grade)\n",
    "        return lst\n",
    "    \n",
    "    def __repr__(self):\n",
    "        return 'DataSheet(%r)' % (self.courses)\n",
    "\n",
    "\n",
    "class Course():\n",
    "    def __init__(self, name, classroom, teacher, ETCS, grade):\n",
    "        self.name = name\n",
    "        self.classroom = classroom\n",
    "        self.teacher = teacher\n",
    "        self.ETCS = ETCS\n",
    "        self.grade = grade\n",
    "        \n",
    "    def __repr__(self):\n",
    "        return 'Course(%r, %r, %r, %r, %r)' % (self.name, self.classroom, self.teacher, self.ETCS, self.grade)\n",
    "        \n",
    "        \n",
    "def makeStudents(amount):\n",
    "    names = [\"John\", \"Svend\", \"Henrik\", \"Jørgen\", \"Jens\", \"Bent\", \"Joan\", \"Joachim\"]\n",
    "    gender = [\"boy\", \"girl\", \"odder\"]\n",
    "    grades = [-3, 0, 2, 4, 7, 10, 12]\n",
    "    imgurl = \"pancake.img\"\n",
    "    c1 = Course(\"Matematik\", \"a1\", \"svend bent\", \"10\", grades[r.randrange(len(grades))])\n",
    "    c2 = Course(\"Dansk\", \"a2\", \"jørgen jetjæger\", \"20\", grades[r.randrange(len(grades))])\n",
    "    c3 = Course(\"Svensk\", \"a3\", \"henrik hapengut\", \"10\",grades[r.randrange(len(grades))])\n",
    "    c4 = Course(\"Tysk\", \"a4\", \"svend sved\", \"10\", grades[r.randrange(len(grades))])\n",
    "    d1 = DataSheet([c1, c2])\n",
    "    d2 = DataSheet([c1, c3])\n",
    "    d3 = DataSheet([c2, c4])\n",
    "    d4 = DataSheet([c2, c3])\n",
    "    courses = [c1, c2, c3, c4]\n",
    "    dsheets = [d1, d2, d3, d4]\n",
    "    list = []\n",
    "    [list.append(Student(names[r.randrange(len(names))], gender[r.randrange(len(gender))], dsheets[r.randrange(len(dsheets))], imgurl)) for val in range(amount)]\n",
    "    return list\n",
    "\n",
    "def writeStudentsToCsv(output_file, lst):\n",
    "    if platform.system() == 'Windows':\n",
    "        newline=''\n",
    "    else:\n",
    "        newline=None\n",
    "    with open(output_file, 'a', newline=newline) as output_file:\n",
    "        output_writer = csv.writer(output_file)\n",
    "        [output_writer.writerow(value) for value in lst]\n",
    "        \n",
    "def write_to_csv(output_file, lst):\n",
    "    if platform.system() == 'Windows':\n",
    "        newline=''\n",
    "    else:\n",
    "        newline=None\n",
    "    with open(output_file, 'a', newline=newline) as output_file:\n",
    "        output_writer = csv.writer(output_file)\n",
    "        for s in lst:\n",
    "            output_writer.writerow([s.name, s.gender, s.data_sheet, s.image_url])\n",
    "\n",
    "def read_csv(input_file):\n",
    "        return_list = []\n",
    "        with open(input_file) as f:\n",
    "            reader = csv.reader(f)\n",
    "            header_row = next(reader)\n",
    "            for row in reader:\n",
    "                return_list.append(str(row))\n",
    "        return return_list\n",
    "    \n",
    "def students_csv(input_file):\n",
    "        student_list = []\n",
    "        with open(input_file) as f:\n",
    "            reader = csv.reader(f)\n",
    "            header_row = next(reader)\n",
    "            for row in reader:\n",
    "                student_list.append(Student(row[0], row[1], row[2], row[3]))\n",
    "        return student_list\n",
    "\n",
    "students = makeStudents(2)\n",
    "##write_to_csv('week3/writehere.csv', students)\n",
    "students_from_csv = students_csv('week3/writehere.csv')\n",
    "[print(student) for student in students_from_csv]\n",
    "\n",
    "sortlist = sorted(students_from_csv, key=lambda student: student.get_avg_grade()) \n",
    "students_from_csv.sort(key=sort_crit)\n",
    "print(my_list)"
   ]
  },
  {
   "cell_type": "markdown",
   "metadata": {},
   "source": [
    "### Part 2"
   ]
  },
  {
   "cell_type": "markdown",
   "metadata": {},
   "source": [
    "### Part 3"
   ]
  }
 ],
 "metadata": {
  "kernelspec": {
   "display_name": "Python 3",
   "language": "python",
   "name": "python3"
  },
  "language_info": {
   "codemirror_mode": {
    "name": "ipython",
    "version": 3
   },
   "file_extension": ".py",
   "mimetype": "text/x-python",
   "name": "python",
   "nbconvert_exporter": "python",
   "pygments_lexer": "ipython3",
   "version": "3.7.6"
  }
 },
 "nbformat": 4,
 "nbformat_minor": 4
}
