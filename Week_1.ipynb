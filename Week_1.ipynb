{
 "cells": [
  {
   "cell_type": "markdown",
   "metadata": {},
   "source": [
    "# Week 1 handin"
   ]
  },
  {
   "cell_type": "markdown",
   "metadata": {},
   "source": [
    "## 01 Assignment\n",
    "#### Create 5 list comprehensions to solve the following 5 problems:\n",
    "  1. Iterate a list of names to return a list of the names starting with H\n",
    "  2. In one line create a list of the numbers 1-100 to the power of 3\n",
    "  3. Iterate a list of names to create a list of tuples where the tuples first value is the length of the name and the second is the name\n",
    "  4. Iterate over each character in a string and get only those that are nummeric\n",
    "  5. Using only a list comprehension wrapped in set() get all possible combination from throwing 2 dice (hint use 2 for loops in a single list comprehension)\n",
    "\n",
    "2. Create 2 dictionary comprehensions to solve the following:\n",
    "  1. Iterate a list of names and create a dictionary where key is the name and value is the length of the name\n",
    "  2. Iterate a list of numbers and create a dictionary with {key:value} being {number:squareroot_of_number}\n",
    "\n",
    "3. Extra assignment (This one goes beyond what is covered in the course notebooks. So only do it if you want an extra challenge).\n",
    "  - Progammatically using loops create a small program to produce a dictionary with all the 2 dice throw combinations as keys and their likelyhood in percent as values"
   ]
  },
  {
   "cell_type": "markdown",
   "metadata": {},
   "source": [
    "## 02 Status\n",
    "I finished all tasks except for the extra task."
   ]
  },
  {
   "cell_type": "markdown",
   "metadata": {},
   "source": [
    "## 03 Solutions "
   ]
  },
  {
   "cell_type": "markdown",
   "metadata": {},
   "source": [
    "### Part 1"
   ]
  },
  {
   "cell_type": "code",
   "execution_count": 1,
   "metadata": {},
   "outputs": [
    {
     "name": "stdout",
     "output_type": "stream",
     "text": [
      "['Henrik', 'Henning']\n"
     ]
    }
   ],
   "source": [
    "# 1.1 Iterate a list of names to return a list of the names starting with H\n",
    "name_list = list(['Henrik', 'Svend', 'Jørgen', 'Klaus', 'Henning'])\n",
    "h_list = [name for name in name_list if name[0]=='H']\n",
    "print(h_list)"
   ]
  },
  {
   "cell_type": "code",
   "execution_count": 2,
   "metadata": {
    "scrolled": true
   },
   "outputs": [
    {
     "name": "stdout",
     "output_type": "stream",
     "text": [
      "[1, 8, 27, 64, 125, 216, 343, 512, 729, 1000, 1331, 1728, 2197, 2744, 3375, 4096, 4913, 5832, 6859, 8000, 9261, 10648, 12167, 13824, 15625, 17576, 19683, 21952, 24389, 27000, 29791, 32768, 35937, 39304, 42875, 46656, 50653, 54872, 59319, 64000, 68921, 74088, 79507, 85184, 91125, 97336, 103823, 110592, 117649, 125000, 132651, 140608, 148877, 157464, 166375, 175616, 185193, 195112, 205379, 216000, 226981, 238328, 250047, 262144, 274625, 287496, 300763, 314432, 328509, 343000, 357911, 373248, 389017, 405224, 421875, 438976, 456533, 474552, 493039, 512000, 531441, 551368, 571787, 592704, 614125, 636056, 658503, 681472, 704969, 729000, 753571, 778688, 804357, 830584, 857375, 884736, 912673, 941192, 970299, 1000000]\n"
     ]
    }
   ],
   "source": [
    "# 1.2 In one line create a list of the numbers 1-100 to the power of 3\n",
    "number_list = [value**3 for value in range(1,101)]\n",
    "print(number_list)"
   ]
  },
  {
   "cell_type": "code",
   "execution_count": 83,
   "metadata": {},
   "outputs": [
    {
     "name": "stdout",
     "output_type": "stream",
     "text": [
      "[((6, 'Henrik'), (5, 'Svend'), (6, 'Jørgen'), (5, 'Klaus'), (7, 'Henning'))]\n"
     ]
    }
   ],
   "source": [
    "# 1.3 Iterate a list of names to create a list of tuples\n",
    "# where the tuples first value is the length of the name and the second is the name\n",
    "name_list2 = list(['Henrik', 'Svend', 'Jørgen', 'Klaus', 'Henning'])\n",
    "\n",
    "list_of_tuples = [tuple((len(value), value) for value in name_list2)]\n",
    "\n",
    "#initial solution:\n",
    "#for value in name_list2:\n",
    "#    my_tuple = (len(value), value)\n",
    "#   list_of_tuples.append(my_tuple)\n",
    "    \n",
    "print(list_of_tuples)"
   ]
  },
  {
   "cell_type": "code",
   "execution_count": 12,
   "metadata": {},
   "outputs": [
    {
     "name": "stdout",
     "output_type": "stream",
     "text": [
      "['2', '7']\n"
     ]
    }
   ],
   "source": [
    "# 1.4 Iterate over each character in a string and get only those that are nummeric\n",
    "strengen = \"vi2skalhave7\"\n",
    "mylist = [value for value in strengen if value.isnumeric()]\n",
    "print(mylist)"
   ]
  },
  {
   "cell_type": "code",
   "execution_count": 5,
   "metadata": {},
   "outputs": [
    {
     "data": {
      "text/plain": [
       "{'1+1',\n",
       " '1+2',\n",
       " '1+3',\n",
       " '1+4',\n",
       " '1+5',\n",
       " '1+6',\n",
       " '2+1',\n",
       " '2+2',\n",
       " '2+3',\n",
       " '2+4',\n",
       " '2+5',\n",
       " '2+6',\n",
       " '3+1',\n",
       " '3+2',\n",
       " '3+3',\n",
       " '3+4',\n",
       " '3+5',\n",
       " '3+6',\n",
       " '4+1',\n",
       " '4+2',\n",
       " '4+3',\n",
       " '4+4',\n",
       " '4+5',\n",
       " '4+6',\n",
       " '5+1',\n",
       " '5+2',\n",
       " '5+3',\n",
       " '5+4',\n",
       " '5+5',\n",
       " '5+6',\n",
       " '6+1',\n",
       " '6+2',\n",
       " '6+3',\n",
       " '6+4',\n",
       " '6+5',\n",
       " '6+6'}"
      ]
     },
     "execution_count": 5,
     "metadata": {},
     "output_type": "execute_result"
    }
   ],
   "source": [
    "# 1.5 Using only a list comprehension wrapped in set() get all possible combination from throwing 2 dice\n",
    "# (hint use 2 for loops in a single list comprehension)\n",
    "numbersy = ['1','2','3','4','5','6']\n",
    "set([num1 + \"+\" + num2 for num1 in numbersy for num2 in numbersy])"
   ]
  },
  {
   "cell_type": "markdown",
   "metadata": {},
   "source": [
    "### Part 2"
   ]
  },
  {
   "cell_type": "code",
   "execution_count": 2,
   "metadata": {},
   "outputs": [
    {
     "name": "stdout",
     "output_type": "stream",
     "text": [
      "{6: 'Jørgen', 5: 'Klaus', 7: 'Henning'}\n"
     ]
    }
   ],
   "source": [
    "# 2 Create 2 dictionary comprehensions to solve the following:\n",
    " #2A Iterate a list of names and create a dictionary where key is the name and value is the length of the name\n",
    "name_list2 = list(['Henrik', 'Svend', 'Jørgen', 'Klaus', 'Henning'])\n",
    "mydict = {len(value): value for value in name_list2}\n",
    "print(mydict)"
   ]
  },
  {
   "cell_type": "code",
   "execution_count": 4,
   "metadata": {},
   "outputs": [
    {
     "name": "stdout",
     "output_type": "stream",
     "text": [
      "{1: 1.0, 2: 1.4142135623730951, 3: 1.7320508075688772, 4: 2.0, 5: 2.23606797749979, 6: 2.449489742783178, 7: 2.6457513110645907, 8: 2.8284271247461903, 9: 3.0, 14: 3.7416573867739413}\n"
     ]
    }
   ],
   "source": [
    " #2B Iterate a list of numbers and create a dictionary with {key:value} being {number:squareroot_of_number}\n",
    "numbers = (1,2,3,4,5,6,7,8,9,14)\n",
    "mydict = {value: value**0.5 for value in numbers}\n",
    "print(mydict)"
   ]
  },
  {
   "cell_type": "markdown",
   "metadata": {},
   "source": [
    "### Part 3"
   ]
  },
  {
   "cell_type": "code",
   "execution_count": null,
   "metadata": {},
   "outputs": [],
   "source": [
    "# Progammatically using loops create a small program to produce a dictionary\n",
    "# with all the 2 dice throw combinations as keys and their likelyhood in percent as values"
   ]
  }
 ],
 "metadata": {
  "kernelspec": {
   "display_name": "Python 3",
   "language": "python",
   "name": "python3"
  },
  "language_info": {
   "codemirror_mode": {
    "name": "ipython",
    "version": 3
   },
   "file_extension": ".py",
   "mimetype": "text/x-python",
   "name": "python",
   "nbconvert_exporter": "python",
   "pygments_lexer": "ipython3",
   "version": "3.7.6"
  }
 },
 "nbformat": 4,
 "nbformat_minor": 4
}
