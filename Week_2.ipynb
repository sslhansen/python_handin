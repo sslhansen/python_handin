{
 "cells": [
  {
   "cell_type": "markdown",
   "metadata": {},
   "source": [
    "# Week 2 handin"
   ]
  },
  {
   "cell_type": "markdown",
   "metadata": {},
   "source": [
    "## 01 Assignment\n",
    "## Exercise 1\n",
    "1. Create a python file with 3 functions:\n",
    "  1. `def print_file_content(file)` that can print content of a csv file to the console\n",
    "  2. `def write_list_to_file(output_file, lst)` that can take a list of tuple and write each element to a new line in file\n",
    "    1. rewrite the function so that it gets an arbitrary number of strings instead of a list\n",
    "  3. `def read_csv(input_file)` that take a csv file and read each row into a list\n",
    "2. Add a functionality so that the file can be called from cli with 2 arguments\n",
    "  1. path to csv file\n",
    "  2. an argument `--file file_name` that if given will write the content to file_name or otherwise will print it to the console.\n",
    "3. Add a --help cli argument to describe how the module is used  \n",
    "\n",
    "## Exercise 2\n",
    "Create a module called utils.py with the following 5 functions:\n",
    "\n",
    "```python\n",
    "def get_file_names(folderpath,out=output.txt):\n",
    "    \"\"\" takes a path to a folder and writes all filenames in the folder to a specified output file\"\"\"\n",
    "\n",
    "def get_all_file_names(folderpath,out=output.txt):\n",
    "    \"\"\"takes a path to a folder and write all filenames recursively (files of all sub folders to)\"\"\"\n",
    "\n",
    "def print_line_one(file_names):\n",
    "    \"\"\"takes a list of filenames and print the first line of each\"\"\"\n",
    "\n",
    "def print_emails(file_names):\n",
    "    \"\"\"takes a list of filenames and print each line that contains an email (just look for @)\"\"\"\n",
    "\n",
    "def write_headlines(md_files, out=output.txt):\n",
    "    \"\"\"takes a list of md files and writes all headlines (lines starting with #) to a file\"\"\"\n",
    "\n",
    "```\n",
    "Make sure your module can be called both from cli and imported to another module\n",
    "Create a new module that imports utils.py and test each function."
   ]
  },
  {
   "cell_type": "markdown",
   "metadata": {},
   "source": [
    "## 02 Status\n",
    "I had a very hard time understanding and doing the parts of the handin that i didnt finish. The files that we were told to look at did not make that much sense to me, so even though i tried i didnt get it to work. Thats why my tasks are not finished"
   ]
  },
  {
   "cell_type": "markdown",
   "metadata": {},
   "source": [
    "## 03 Solutions "
   ]
  },
  {
   "cell_type": "markdown",
   "metadata": {},
   "source": [
    "### Part 1 Create a python file with 3 functions:"
   ]
  },
  {
   "cell_type": "code",
   "execution_count": 17,
   "metadata": {
    "scrolled": true
   },
   "outputs": [
    {
     "name": "stdout",
     "output_type": "stream",
     "text": [
      "Row #2 ['2015', '1', '0', '5100', '614']\n",
      "Row #3 ['2015', '1', '0', '5104', '2']\n",
      "Row #4 ['2015', '1', '0', '5106', '1']\n",
      "Row #5 ['2015', '1', '0', '5110', '1']\n",
      "Row #6 ['2015', '1', '0', '5120', '4']\n",
      "Row #7 ['2015', '1', '0', '5126', '1']\n",
      "Row #8 ['2015', '1', '0', '5130', '5']\n",
      "Row #9 ['2015', '1', '0', '5140', '3']\n",
      "Row #10 ['2015', '1', '0', '5150', '5']\n",
      "Row #11 ['2015', '1', '0', '5154', '1']\n",
      "Row #12 ['2015', '1', '0', '5164', '3']\n",
      "Row #13 ['2015', '1', '0', '5170', '3']\n",
      "Row #14 ['2015', '1', '0', '5180', '3']\n",
      "Row #15 ['2015', '1', '0', '5228', '1']\n",
      "Row #16 ['2015', '1', '0', '5306', '2']\n",
      "Row #17 ['2015', '1', '0', '5390', '1']\n",
      "Row #18 ['2015', '1', '0', '5448', '1']\n",
      "Row #19 ['2015', '1', '0', '5464', '1']\n",
      "Row #20 ['2015', '1', '0', '5472', '1']\n",
      "Row #21 ['2015', '1', '0', '5502', '1']\n",
      "Row #22 ['2015', '1', '0', '5704', '1']\n",
      "Row #23 ['2015', '1', '0', '5752', '1']\n",
      "Row #24 ['2015', '1', '1', '5100', '540']\n"
     ]
    }
   ],
   "source": [
    "# 1.1 `def print_file_content(file)` that can print content of a csv file to the console\n",
    "from week2_modules import import_functions as funcs\n",
    "file = 'week2_modules/readhere.csv'\n",
    "funcs.print_file_content(file)"
   ]
  },
  {
   "cell_type": "code",
   "execution_count": 15,
   "metadata": {
    "scrolled": true
   },
   "outputs": [
    {
     "name": "stdout",
     "output_type": "stream",
     "text": [
      "Row #2 ['2015', '1', '0', '5104', '2,3']\n",
      "Row #3 ['2015', '1', '0', '5106', '1']\n",
      "Row #4 ['2015', '1', '0', '5110', '1']\n",
      "Row #5 ['add', 'this', 'to', 'file']\n",
      "Row #6 ['also', 'add', 'this', 'please']\n",
      "Row #7 ['add', 'this', 'to', 'file']\n",
      "Row #8 ['also', 'add', 'this', 'please']\n",
      "Row #9 ['add', 'this', 'to', 'file']\n",
      "Row #10 ['also', 'add', 'this', 'please']\n",
      "Row #11 ['add', 'this', 'to', 'file']\n",
      "Row #12 ['also', 'add', 'this', 'please']\n",
      "Row #13 ['add', 'this', 'to', 'file']\n",
      "Row #14 ['also', 'add', 'this', 'please']\n",
      "Row #15 ['add', 'this', 'to', 'file']\n",
      "Row #16 ['also', 'add', 'this', 'please']\n",
      "Row #17 ['add', 'this', 'to', 'file']\n",
      "Row #18 ['also', 'add', 'this', 'please']\n",
      "Row #19 ['add', 'this', 'to', 'file']\n",
      "Row #20 ['also', 'add', 'this', 'please']\n",
      "Row #21 ['add', 'this', 'to', 'file']\n",
      "Row #22 ['also', 'add', 'this', 'please']\n",
      "Row #23 ['add', 'this', 'to', 'file']\n",
      "Row #24 ['also', 'add', 'this', 'please']\n",
      "Row #25 ['add', 'this', 'to', 'file']\n",
      "Row #26 ['also', 'add', 'this', 'please']\n",
      "Row #27 ['can', 'you', 'add', 'this']\n",
      "Row #28 ['can', 'you', 'add', 'this']\n",
      "Row #29 ['can', 'you', 'add', 'this']\n",
      "Row #30 ['can', 'you', 'add', 'this']\n",
      "Row #31 ['can', 'you', 'add', 'this']\n",
      "Row #32 ['can', 'you', 'add', 'this']\n",
      "Row #33 ['can', 'you', 'add', 'this']\n",
      "Row #34 ['add', 'this', 'to', 'file']\n",
      "Row #35 ['also', 'add', 'this', 'please']\n"
     ]
    }
   ],
   "source": [
    "# 1.2 def write_list_to_file(output_file, lst) that can take a list of tuple and write each element to a new line in file\n",
    "from week2_modules import import_functions as funcs\n",
    "file2 = 'week2_modules/writehere.csv'\n",
    "my_tuple = ('add', 'this', 'to', 'file')\n",
    "my_tuple2 = ('also', 'add', 'this', 'please')\n",
    "listen = []\n",
    "listen.append(my_tuple)\n",
    "listen.append(my_tuple2)\n",
    "funcs.write_list_to_file(file2, listen)\n",
    "funcs.print_file_content(file2)"
   ]
  },
  {
   "cell_type": "code",
   "execution_count": 14,
   "metadata": {},
   "outputs": [
    {
     "name": "stdout",
     "output_type": "stream",
     "text": [
      "Row #2 ['2015', '1', '0', '5104', '2,3']\n",
      "Row #3 ['2015', '1', '0', '5106', '1']\n",
      "Row #4 ['2015', '1', '0', '5110', '1']\n",
      "Row #5 ['add', 'this', 'to', 'file']\n",
      "Row #6 ['also', 'add', 'this', 'please']\n",
      "Row #7 ['add', 'this', 'to', 'file']\n",
      "Row #8 ['also', 'add', 'this', 'please']\n",
      "Row #9 ['add', 'this', 'to', 'file']\n",
      "Row #10 ['also', 'add', 'this', 'please']\n",
      "Row #11 ['add', 'this', 'to', 'file']\n",
      "Row #12 ['also', 'add', 'this', 'please']\n",
      "Row #13 ['add', 'this', 'to', 'file']\n",
      "Row #14 ['also', 'add', 'this', 'please']\n",
      "Row #15 ['add', 'this', 'to', 'file']\n",
      "Row #16 ['also', 'add', 'this', 'please']\n",
      "Row #17 ['add', 'this', 'to', 'file']\n",
      "Row #18 ['also', 'add', 'this', 'please']\n",
      "Row #19 ['add', 'this', 'to', 'file']\n",
      "Row #20 ['also', 'add', 'this', 'please']\n",
      "Row #21 ['add', 'this', 'to', 'file']\n",
      "Row #22 ['also', 'add', 'this', 'please']\n",
      "Row #23 ['add', 'this', 'to', 'file']\n",
      "Row #24 ['also', 'add', 'this', 'please']\n",
      "Row #25 ['add', 'this', 'to', 'file']\n",
      "Row #26 ['also', 'add', 'this', 'please']\n",
      "Row #27 ['can', 'you', 'add', 'this']\n",
      "Row #28 ['can', 'you', 'add', 'this']\n",
      "Row #29 ['can', 'you', 'add', 'this']\n",
      "Row #30 ['can', 'you', 'add', 'this']\n",
      "Row #31 ['can', 'you', 'add', 'this']\n",
      "Row #32 ['can', 'you', 'add', 'this']\n",
      "Row #33 ['can', 'you', 'add', 'this']\n"
     ]
    }
   ],
   "source": [
    "# 1.2.1 rewrite the function so that it gets an arbitrary number of strings instead of a list\n",
    "from week2_modules import import_functions as funcs\n",
    "file2 = 'week2_modules/writehere.csv'\n",
    "my_list = ['can', 'you', 'add', 'this']\n",
    "funcs.write_list_to_file_strings(file2, my_list)\n",
    "funcs.print_file_content(file2)"
   ]
  },
  {
   "cell_type": "code",
   "execution_count": 4,
   "metadata": {},
   "outputs": [
    {
     "name": "stdout",
     "output_type": "stream",
     "text": [
      "[\"['2015', '1', '0', '5100', '614']\", \"['2015', '1', '0', '5104', '2']\", \"['2015', '1', '0', '5106', '1']\", \"['2015', '1', '0', '5110', '1']\", \"['2015', '1', '0', '5120', '4']\", \"['2015', '1', '0', '5126', '1']\", \"['2015', '1', '0', '5130', '5']\", \"['2015', '1', '0', '5140', '3']\", \"['2015', '1', '0', '5150', '5']\", \"['2015', '1', '0', '5154', '1']\", \"['2015', '1', '0', '5164', '3']\", \"['2015', '1', '0', '5170', '3']\", \"['2015', '1', '0', '5180', '3']\", \"['2015', '1', '0', '5228', '1']\", \"['2015', '1', '0', '5306', '2']\", \"['2015', '1', '0', '5390', '1']\", \"['2015', '1', '0', '5448', '1']\", \"['2015', '1', '0', '5464', '1']\", \"['2015', '1', '0', '5472', '1']\", \"['2015', '1', '0', '5502', '1']\", \"['2015', '1', '0', '5704', '1']\", \"['2015', '1', '0', '5752', '1']\", \"['2015', '1', '1', '5100', '540']\"]\n"
     ]
    }
   ],
   "source": [
    "# 1.3 def read_csv(input_file) that take a csv file and read each row into a list\n",
    "from week2_modules import import_functions as funcs\n",
    "file3 = 'week2_modules/readhere.csv'\n",
    "print(funcs.read_csv(file3))"
   ]
  },
  {
   "cell_type": "markdown",
   "metadata": {},
   "source": [
    "### Part 2"
   ]
  },
  {
   "cell_type": "markdown",
   "metadata": {},
   "source": [
    "### Part 3"
   ]
  }
 ],
 "metadata": {
  "kernelspec": {
   "display_name": "Python 3",
   "language": "python",
   "name": "python3"
  },
  "language_info": {
   "codemirror_mode": {
    "name": "ipython",
    "version": 3
   },
   "file_extension": ".py",
   "mimetype": "text/x-python",
   "name": "python",
   "nbconvert_exporter": "python",
   "pygments_lexer": "ipython3",
   "version": "3.7.6"
  }
 },
 "nbformat": 4,
 "nbformat_minor": 4
}
