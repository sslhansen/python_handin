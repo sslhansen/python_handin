{
 "cells": [
  {
   "cell_type": "markdown",
   "metadata": {},
   "source": [
    "# Week 8 Hand-in"
   ]
  },
  {
   "cell_type": "markdown",
   "metadata": {},
   "source": [
    "## Assignment\n",
    "\n",
    "https://github.com/SebastianBentley/Python_Exercises/blob/main/README.md"
   ]
  },
  {
   "cell_type": "markdown",
   "metadata": {},
   "source": [
    "## Status\n"
   ]
  },
  {
   "cell_type": "markdown",
   "metadata": {},
   "source": [
    "Opgaverne er lavet i samarbejde med Michael Ibsen. Vi mangler opgave 2 med selenium.\n",
    "For at køre eksemplet skal flask_app sættes korrekt op. Skriv i en CLI som er attached til docker containeren: FLASK_APP=\"STI_TIL_FLASK_APPEN\", og efterfølgende: flask run --host=0.0.0.0"
   ]
  },
  {
   "cell_type": "markdown",
   "metadata": {},
   "source": [
    "# Imports"
   ]
  },
  {
   "cell_type": "code",
   "execution_count": 1,
   "metadata": {},
   "outputs": [],
   "source": [
    "import bs4\n",
    "import requests\n",
    "import re\n",
    "import matplotlib.pyplot as plt\n",
    "import mysql.connector as mysql"
   ]
  },
  {
   "cell_type": "markdown",
   "metadata": {},
   "source": [
    "## Solution for ex 1"
   ]
  },
  {
   "cell_type": "code",
   "execution_count": null,
   "metadata": {
    "scrolled": false
   },
   "outputs": [],
   "source": [
    "url = 'https://www.komplett.dk/category/21661/gaming/gaming-pc/baerbar'\n",
    "r = requests.get(url)\n",
    "r.raise_for_status()\n",
    "soup = bs4.BeautifulSoup(r.text, 'html.parser')\n",
    "price_list_div = soup.select('.product-list .product-price-now')\n",
    "name_list_div = soup.select('.product-list .text-content h2')\n",
    "\n",
    "my_dict = {}\n",
    "for idx in range(0, len(name_list_div)):\n",
    "    my_dict[name_list_div[idx].getText()] = price_list_div[idx].getText()\n",
    "\n",
    "print(my_dict)\n",
    "\n",
    "db = mysql.connect(\n",
    "    host = \"db\",\n",
    "    user = \"root\",\n",
    "    passwd = \"root\",\n",
    "    db = \"db\"\n",
    ")\n",
    "cur = db.cursor()\n",
    "    \n",
    "for name, price in my_dict.items():\n",
    "    #query = 'INSERT INTO week8 (name, price) VALUES(\\''+name+'\\', \\''+price+'\\');'\n",
    "    query = 'INSERT INTO week8 (name, price) VALUES(%s, %s);'\n",
    "    cur.execute(query, (name, price,))\n",
    "    \n",
    "db.commit()"
   ]
  },
  {
   "cell_type": "markdown",
   "metadata": {},
   "source": [
    "## Solution for ex 2"
   ]
  },
  {
   "cell_type": "markdown",
   "metadata": {
    "scrolled": true
   },
   "source": [
    "Solution is found in the file: \"flasks/flask_week8.py\""
   ]
  },
  {
   "cell_type": "markdown",
   "metadata": {},
   "source": [
    "## Solution for ex 3"
   ]
  },
  {
   "cell_type": "code",
   "execution_count": 12,
   "metadata": {
    "scrolled": false
   },
   "outputs": [
    {
     "name": "stdout",
     "output_type": "stream",
     "text": [
      "['ASUS TUF Gaming A15 FX506IV 15,6\\\\\" FHD 144 Hz']\n",
      "['10.995']\n"
     ]
    }
   ],
   "source": [
    "url = 'http://127.0.0.1:5000/api/laptops/all'\n",
    "r = requests.get(url)\n",
    "r.raise_for_status()\n",
    "soup = bs4.BeautifulSoup(r.text, 'html.parser')\n",
    "exp = re.compile('(\\w.*)\\\",\\\"')\n",
    "price = re.compile('\\\",\\\"(\\d+.\\d+)')\n",
    "matches = exp.findall(str(soup))\n",
    "names = []\n",
    "prices = []\n",
    "for line in soup.getText().split('],['):\n",
    "    names.append(exp.findall(line))\n",
    "    prices.append(price.findall(line))\n",
    "    \n",
    "print(names[0])\n",
    "print(prices[0])\n"
   ]
  }
 ],
 "metadata": {
  "kernelspec": {
   "display_name": "Python 3",
   "language": "python",
   "name": "python3"
  },
  "language_info": {
   "codemirror_mode": {
    "name": "ipython",
    "version": 3
   },
   "file_extension": ".py",
   "mimetype": "text/x-python",
   "name": "python",
   "nbconvert_exporter": "python",
   "pygments_lexer": "ipython3",
   "version": "3.7.6"
  }
 },
 "nbformat": 4,
 "nbformat_minor": 4
}
